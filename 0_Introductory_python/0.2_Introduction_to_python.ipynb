{
 "cells": [
  {
   "cell_type": "markdown",
   "metadata": {},
   "source": [
    "## Introduction to Python\n",
    "\n",
    "What are the benefits of using Python?\n",
    "\n",
    " * General-purpose.\n",
    " * Interpreted.\n",
    " * Focuses on readability.\n",
    " * Comprehesive standard library.\n",
    " * Extended with a large number of third-party packages.\n",
    " * Widely used in scientific programming.\n",
    "\n",
    "This presentation will give a brief into to some key features of Python to help those not familar\n",
    "with the language with the remainder of the class. This is in no way a comprehensive introduction\n",
    "to either topic, for the sake of time. Excellent tutorials on Python can be found online. If nothing else, Stack Overflow will probably have the answer to any questions you may have regarding Python.\n",
    "\n",
    "In the next notebook, we will discuss some numerical and scientific Python packages."
   ]
  },
  {
   "cell_type": "markdown",
   "metadata": {},
   "source": [
    "As seen in the first notebook, we can print text by using the print function."
   ]
  },
  {
   "cell_type": "code",
   "execution_count": null,
   "metadata": {},
   "outputs": [],
   "source": [
    "print(\"I'm Mr. Meeseeks look at me!!!!\")"
   ]
  },
  {
   "cell_type": "markdown",
   "metadata": {},
   "source": [
    "## Variables and Types"
   ]
  },
  {
   "cell_type": "markdown",
   "metadata": {},
   "source": [
    "In Python you can define a variable and assign it a value. For example:"
   ]
  },
  {
   "cell_type": "code",
   "execution_count": null,
   "metadata": {},
   "outputs": [],
   "source": [
    "foo = 1"
   ]
  },
  {
   "cell_type": "markdown",
   "metadata": {},
   "source": [
    "foo is the integer 1, so we can add, subtract etc to foo."
   ]
  },
  {
   "cell_type": "code",
   "execution_count": null,
   "metadata": {},
   "outputs": [],
   "source": [
    "foo + 1"
   ]
  },
  {
   "cell_type": "markdown",
   "metadata": {},
   "source": [
    "We need to reassign or reuse the variable to keep the add integer"
   ]
  },
  {
   "cell_type": "code",
   "execution_count": null,
   "metadata": {},
   "outputs": [],
   "source": [
    "foo2 = foo + 1\n",
    "print(foo2)\n",
    "foo = foo + 1\n",
    "print(foo)"
   ]
  },
  {
   "cell_type": "markdown",
   "metadata": {},
   "source": [
    "There are a quite a few different data types in Python, but to name a couple for the sake of time:\n",
    " * Strings\n",
    " * Floats\n",
    " * Integers\n",
    " * Lists\n",
    " * and more.."
   ]
  },
  {
   "cell_type": "markdown",
   "metadata": {},
   "source": [
    "To check a data type we can simply place type in front of that variable:"
   ]
  },
  {
   "cell_type": "code",
   "execution_count": null,
   "metadata": {},
   "outputs": [],
   "source": [
    "bar = 3.5\n",
    "type(bar)"
   ]
  },
  {
   "cell_type": "markdown",
   "metadata": {},
   "source": [
    "Python even allows us to combine string variables:"
   ]
  },
  {
   "cell_type": "code",
   "execution_count": null,
   "metadata": {},
   "outputs": [],
   "source": [
    "obiwan = \"That's no moon... \"\n",
    "kenobi = \"It's a space station!\"\n",
    "obiwan_kenobi = obiwan + kenobi\n",
    "print(obiwan_kenobi)"
   ]
  },
  {
   "cell_type": "markdown",
   "metadata": {},
   "source": [
    "## Containers"
   ]
  },
  {
   "cell_type": "markdown",
   "metadata": {},
   "source": [
    "In Python there are also containers. Tuples, lists and dictionaries.\n",
    "A list is exactly how it sounds, and list allow us to search via indexing. \n",
    "To create at list:"
   ]
  },
  {
   "cell_type": "code",
   "execution_count": null,
   "metadata": {},
   "outputs": [],
   "source": [
    "my_list = ['hello', 42, 100000.1, 'I Love Python!!']"
   ]
  },
  {
   "cell_type": "markdown",
   "metadata": {},
   "source": [
    "and yes lists can contain different types of variables, floats, strings you name it!"
   ]
  },
  {
   "cell_type": "markdown",
   "metadata": {},
   "source": [
    "To index:"
   ]
  },
  {
   "cell_type": "code",
   "execution_count": null,
   "metadata": {},
   "outputs": [],
   "source": [
    "print(my_list[3])"
   ]
  },
  {
   "cell_type": "markdown",
   "metadata": {},
   "source": [
    "A tuple is a sequence of immutable Python objects. Being sequences, tuples are like lists,\n",
    "but the difference between the two is that the tuples cannot be changed unlike lists. These are useful for providing coordinates."
   ]
  },
  {
   "cell_type": "code",
   "execution_count": null,
   "metadata": {},
   "outputs": [],
   "source": [
    "tup = (1, 2, 3)\n",
    "print(tup)"
   ]
  },
  {
   "cell_type": "code",
   "execution_count": null,
   "metadata": {},
   "outputs": [],
   "source": [
    "tup[1] = 6"
   ]
  },
  {
   "cell_type": "markdown",
   "metadata": {},
   "source": [
    "With dictionaries, we essential can store information and have keys that we can access. You will see this a lot in\n",
    "Py-ART. The fields are stored this way."
   ]
  },
  {
   "cell_type": "code",
   "execution_count": null,
   "metadata": {},
   "outputs": [],
   "source": [
    "arctic = {'animals': 'polar bear, walrus and more',\n",
    "          'size': 13985000,\n",
    "          'size_units': 'km2',\n",
    "          'climate': 'Really cold... but the northern lights are awesome!'}"
   ]
  },
  {
   "cell_type": "code",
   "execution_count": null,
   "metadata": {},
   "outputs": [],
   "source": [
    "arctic['animals']"
   ]
  },
  {
   "cell_type": "markdown",
   "metadata": {},
   "source": [
    "## Flow Control Statements"
   ]
  },
  {
   "cell_type": "markdown",
   "metadata": {},
   "source": [
    "There are flow control statements in Python. With these we can check different conditions and which of them are met."
   ]
  },
  {
   "cell_type": "code",
   "execution_count": null,
   "metadata": {},
   "outputs": [],
   "source": [
    "a = 10\n",
    "if a > 10:\n",
    "    print(\"a is larger than 10\")\n",
    "elif a < 10:\n",
    "    print(\"a is less than 10\")\n",
    "else:\n",
    "    print(\"a is equal to 10\")"
   ]
  },
  {
   "cell_type": "markdown",
   "metadata": {},
   "source": [
    "We can also create loops to do an action to multiple items. Let's take a list for example. "
   ]
  },
  {
   "cell_type": "code",
   "execution_count": null,
   "metadata": {},
   "outputs": [],
   "source": [
    "releases = ['Dali', 'Bob Ross', 'Michelangelo']\n",
    "for release in releases:\n",
    "    print(release + ' is going to be a Py-ART release!')"
   ]
  },
  {
   "cell_type": "markdown",
   "metadata": {},
   "source": [
    "## Functions"
   ]
  },
  {
   "cell_type": "markdown",
   "metadata": {},
   "source": [
    "Functions are a block of reusable code that can perform an action and can even return variables.\n",
    "You can also input variables into a function."
   ]
  },
  {
   "cell_type": "code",
   "execution_count": null,
   "metadata": {},
   "outputs": [],
   "source": [
    "def func():\n",
    "    print(\"Hello world\")\n",
    "\n",
    "func()"
   ]
  },
  {
   "cell_type": "code",
   "execution_count": null,
   "metadata": {},
   "outputs": [],
   "source": [
    "def name_func(name):\n",
    "    print(\"Hello\", name)\n",
    "\n",
    "name_func(\"Chuck Norris\")"
   ]
  },
  {
   "cell_type": "code",
   "execution_count": null,
   "metadata": {},
   "outputs": [],
   "source": [
    "def addition_func(x):\n",
    "    return x + 42\n",
    "\n",
    "new_num = addition_func(2)\n",
    "print(new_num)"
   ]
  },
  {
   "cell_type": "markdown",
   "metadata": {},
   "source": [
    "## Classes"
   ]
  },
  {
   "cell_type": "markdown",
   "metadata": {},
   "source": [
    "Classes allow for the bundling of data and functionality. Creating a new class\n",
    "creates a new type of object."
   ]
  },
  {
   "cell_type": "code",
   "execution_count": null,
   "metadata": {},
   "outputs": [],
   "source": [
    "class Car(object):\n",
    "\n",
    "    engine = 'V4'    # class attribute\n",
    "\n",
    "    def start(self):  # class method\n",
    "        print(\"Starting the car with a\", self.engine, \"engine\")\n",
    "\n",
    "mycar = Car()"
   ]
  },
  {
   "cell_type": "code",
   "execution_count": null,
   "metadata": {},
   "outputs": [],
   "source": [
    "type(mycar)"
   ]
  },
  {
   "cell_type": "code",
   "execution_count": null,
   "metadata": {},
   "outputs": [],
   "source": [
    "mycar.engine"
   ]
  },
  {
   "cell_type": "code",
   "execution_count": null,
   "metadata": {},
   "outputs": [],
   "source": [
    "mycar.start()"
   ]
  },
  {
   "cell_type": "code",
   "execution_count": null,
   "metadata": {},
   "outputs": [],
   "source": [
    "mycar.engine = 'V6'"
   ]
  },
  {
   "cell_type": "code",
   "execution_count": null,
   "metadata": {},
   "outputs": [],
   "source": [
    "mycar.engine"
   ]
  },
  {
   "cell_type": "code",
   "execution_count": null,
   "metadata": {},
   "outputs": [],
   "source": [
    "mycar.start()"
   ]
  },
  {
   "cell_type": "markdown",
   "metadata": {},
   "source": [
    "## Importing"
   ]
  },
  {
   "cell_type": "markdown",
   "metadata": {},
   "source": [
    "In Python we can import packages to be used. We will go into more detail on two popular Python packages\n",
    "in the next notebook. To import a package:"
   ]
  },
  {
   "cell_type": "code",
   "execution_count": null,
   "metadata": {},
   "outputs": [],
   "source": [
    "import turtle"
   ]
  },
  {
   "cell_type": "markdown",
   "metadata": {},
   "source": [
    "We can also import a package and assign it a different name."
   ]
  },
  {
   "cell_type": "code",
   "execution_count": null,
   "metadata": {},
   "outputs": [],
   "source": [
    "import numpy as np"
   ]
  },
  {
   "cell_type": "markdown",
   "metadata": {},
   "source": [
    "We can also import from within a package."
   ]
  },
  {
   "cell_type": "code",
   "execution_count": null,
   "metadata": {},
   "outputs": [],
   "source": [
    "from numpy import array"
   ]
  },
  {
   "cell_type": "markdown",
   "metadata": {},
   "source": [
    "## Exercise\n",
    "Create a function that uses 'if else statement flow control' to determine if the input value is a float. And print text if it is a float or not."
   ]
  },
  {
   "cell_type": "code",
   "execution_count": null,
   "metadata": {},
   "outputs": [],
   "source": []
  },
  {
   "cell_type": "code",
   "execution_count": null,
   "metadata": {},
   "outputs": [],
   "source": [
    "%load section2_answer.py"
   ]
  },
  {
   "cell_type": "code",
   "execution_count": null,
   "metadata": {},
   "outputs": [],
   "source": []
  }
 ],
 "metadata": {
  "kernelspec": {
   "display_name": "Python 3",
   "language": "python",
   "name": "python3"
  },
  "language_info": {
   "codemirror_mode": {
    "name": "ipython",
    "version": 3
   },
   "file_extension": ".py",
   "mimetype": "text/x-python",
   "name": "python",
   "nbconvert_exporter": "python",
   "pygments_lexer": "ipython3",
   "version": "3.6.4"
  }
 },
 "nbformat": 4,
 "nbformat_minor": 2
}
