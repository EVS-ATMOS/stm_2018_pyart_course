{
 "cells": [
  {
   "cell_type": "markdown",
   "metadata": {},
   "source": [
    "# 0.1 Introduction to Jupyter Notebook"
   ]
  },
  {
   "cell_type": "markdown",
   "metadata": {},
   "source": [
    "The Jupyter Notebook is an open-source web application that can contain live code,\n",
    "equations, visualizations and more. Users are able to run individual cells to test\n",
    "out code. Jupyter notebook is also great for presenting how to use modules and\n",
    "certain code, hence, Jupyter notebooks in today's short course."
   ]
  },
  {
   "cell_type": "markdown",
   "metadata": {},
   "source": [
    "To run a cell you simply hit shift enter within the cell you wish to run. Output of that code\n",
    "is printed below the cell that was ran. For an example, click on the cell below and hit shift-enter:"
   ]
  },
  {
   "cell_type": "code",
   "execution_count": 1,
   "metadata": {},
   "outputs": [
    {
     "name": "stdout",
     "output_type": "stream",
     "text": [
      "Hello Python and Radar Enthusiasts!!\n"
     ]
    }
   ],
   "source": [
    "print('Hello Python and Radar Enthusiasts!!')"
   ]
  },
  {
   "cell_type": "markdown",
   "metadata": {
    "collapsed": true
   },
   "source": [
    "Jupyter has many keyboard commands which are found in the keyboard icon up top. If you are linux, you can hHold the command button 'esc' down and then type the command to use.\n",
    "\n",
    "You can also access a few very useful commands from the toolbar above. The pause button icon will stop\n",
    "the cell that is running. This is useful to cancel long processes or if you realize you should have not ran that\n",
    "cell yet. You can click the floppy disk to save the notebook, or the plus button to add a new cell."
   ]
  },
  {
   "cell_type": "markdown",
   "metadata": {
    "collapsed": true
   },
   "source": [
    "The other commands in the toolbar are to move cells, delete cells, run them and more.\n",
    "A helpful Note: If you accidently delete a cell that you did not want deleted, you can use\n",
    "command z or Edit in the toolbar and select Undo Delete Cells and will return the deleted cell."
   ]
  },
  {
   "cell_type": "code",
   "execution_count": null,
   "metadata": {
    "collapsed": true
   },
   "outputs": [],
   "source": []
  },
  {
   "cell_type": "code",
   "execution_count": null,
   "metadata": {},
   "outputs": [],
   "source": [
    "Finally, you can add your own notes in the notebook by chaning the cell type to markdown! \n",
    "\n",
    "Click on this cell, and then on the drop down menu above, choose \"Markdown\" to change this cell from \n",
    "code to side-notes."
   ]
  }
 ],
 "metadata": {
  "kernelspec": {
   "display_name": "Python 3",
   "language": "python",
   "name": "python3"
  },
  "language_info": {
   "codemirror_mode": {
    "name": "ipython",
    "version": 3
   },
   "file_extension": ".py",
   "mimetype": "text/x-python",
   "name": "python",
   "nbconvert_exporter": "python",
   "pygments_lexer": "ipython3",
   "version": "3.6.4"
  }
 },
 "nbformat": 4,
 "nbformat_minor": 2
}
