{
 "cells": [
  {
   "cell_type": "markdown",
   "metadata": {},
   "source": [
    "## Introduction to Matplotlib"
   ]
  },
  {
   "cell_type": "markdown",
   "metadata": {},
   "source": [
    "Matplotlib is a Python plotting library that can create a variety of different plots, such as\n",
    "pcolormesh and contour plots. Py-ART uses Matplotlib to do its plotting."
   ]
  },
  {
   "cell_type": "markdown",
   "metadata": {},
   "source": [
    "First let's import Matplotlib's pyplot and numpy for use of creating test data."
   ]
  },
  {
   "cell_type": "code",
   "execution_count": null,
   "metadata": {},
   "outputs": [],
   "source": [
    "import matplotlib.pyplot as plt\n",
    "import numpy as np"
   ]
  },
  {
   "cell_type": "markdown",
   "metadata": {},
   "source": [
    "First lets create a simple line plot."
   ]
  },
  {
   "cell_type": "code",
   "execution_count": null,
   "metadata": {},
   "outputs": [],
   "source": [
    "x = np.array([0, 1, 2, 3, 4])\n",
    "y = np.array([3, 5, 9, 1, 3])"
   ]
  },
  {
   "cell_type": "code",
   "execution_count": null,
   "metadata": {},
   "outputs": [],
   "source": [
    "plt.plot(x, y)\n",
    "plt.xlabel('Number of Pirates')\n",
    "plt.ylabel('Number of Ninjas')\n",
    "plt.show()"
   ]
  },
  {
   "cell_type": "markdown",
   "metadata": {},
   "source": [
    "How about a pcolor plot?"
   ]
  },
  {
   "cell_type": "code",
   "execution_count": null,
   "metadata": {},
   "outputs": [],
   "source": [
    "z = np.random.rand(15, 15)\n",
    "plt.pcolor(z)\n",
    "plt.show()"
   ]
  },
  {
   "cell_type": "markdown",
   "metadata": {},
   "source": [
    "Now the great thing about matplotlib is that there are a variety of customization tools.\n",
    "One such tool is the 'figure'. With this we can change the size of the plot, plus more.\n",
    "plt has quite a few tools. We can save the figure, add a title, change the x and y limits\n",
    "and more."
   ]
  },
  {
   "cell_type": "code",
   "execution_count": null,
   "metadata": {},
   "outputs": [],
   "source": [
    "fig = plt.figure(figsize=[5, 5])\n",
    "plt.pcolor(z)\n",
    "plt.xlim(2, 12)\n",
    "plt.ylim(0, 10)\n",
    "plt.title('My Awesome Plot!')\n",
    "plt.show()\n",
    "# plt.savefig('/home/me')"
   ]
  },
  {
   "cell_type": "markdown",
   "metadata": {},
   "source": [
    "With axes, we can plot several figures in the same window by adding subplots."
   ]
  },
  {
   "cell_type": "code",
   "execution_count": null,
   "metadata": {},
   "outputs": [],
   "source": [
    "fig = plt.figure(figsize=[10, 8])\n",
    "z = np.random.rand(10, 10)\n",
    "x1 = np.random.rand(10)\n",
    "x2 = np.random.rand(10)\n",
    "y1 = np.random.rand(10)\n",
    "y2 = np.random.rand(10)\n",
    "\n",
    "ax1 = fig.add_subplot(311)\n",
    "ax1.plot(x1, y1)\n",
    "\n",
    "ax2 = fig.add_subplot(312)\n",
    "ax2.plot(x2,y2)\n",
    "\n",
    "ax3 = fig.add_subplot(313)\n",
    "ax3.pcolor(x1, y1, z)\n",
    "\n",
    "plt.show()"
   ]
  },
  {
   "cell_type": "markdown",
   "metadata": {
    "collapsed": true
   },
   "source": [
    "## Exercise\n",
    "\n",
    "Plot the curve Y = 2X + 1 over the range of X = (-100, 100)"
   ]
  },
  {
   "cell_type": "code",
   "execution_count": null,
   "metadata": {},
   "outputs": [],
   "source": [
    "%load section4_answer.py"
   ]
  },
  {
   "cell_type": "code",
   "execution_count": null,
   "metadata": {},
   "outputs": [],
   "source": []
  }
 ],
 "metadata": {
  "kernelspec": {
   "display_name": "Python 3",
   "language": "python",
   "name": "python3"
  },
  "language_info": {
   "codemirror_mode": {
    "name": "ipython",
    "version": 3
   },
   "file_extension": ".py",
   "mimetype": "text/x-python",
   "name": "python",
   "nbconvert_exporter": "python",
   "pygments_lexer": "ipython3",
   "version": "3.6.4"
  }
 },
 "nbformat": 4,
 "nbformat_minor": 2
}
