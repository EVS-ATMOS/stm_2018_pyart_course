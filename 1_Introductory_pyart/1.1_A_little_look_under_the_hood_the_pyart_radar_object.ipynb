{
 "cells": [
  {
   "cell_type": "markdown",
   "metadata": {},
   "source": [
    "## 1.1. The Py-ART Radar object"
   ]
  },
  {
   "cell_type": "markdown",
   "metadata": {},
   "source": [
    "The previous section went into how to load a radar file and to provide a quick visalization of it using Py-ART. In this section, we will take a closer look at the structure of the Radar object that Py-ART uses to store the radar data.\n"
   ]
  },
  {
   "cell_type": "code",
   "execution_count": 21,
   "metadata": {},
   "outputs": [
    {
     "name": "stderr",
     "output_type": "stream",
     "text": [
      "C:\\Users\\rjackson\\AppData\\Local\\Continuum\\Anaconda2\\envs\\pyart-2018\\lib\\site-packages\\jupyter_client\\jsonutil.py:67: DeprecationWarning: Interpreting naive datetime as local 2018-03-06 14:01:10.298000. Please add timezone info to timestamps.\n",
      "  new_obj[k] = extract_dates(v)\n"
     ]
    }
   ],
   "source": [
    "import pyart\n",
    "import numpy as np"
   ]
  },
  {
   "cell_type": "markdown",
   "metadata": {},
   "source": [
    "First, let's load a file!"
   ]
  },
  {
   "cell_type": "code",
   "execution_count": null,
   "metadata": {},
   "outputs": [],
   "source": [
    "radar = pyart.io.read('../inf_tutorial_data/sgpxsaprcmacsurI5.c1.20170801.044013.nc')"
   ]
  },
  {
   "cell_type": "markdown",
   "metadata": {},
   "source": [
    "If we want to view the specific parameters that are in the radar object, we need to do a radar.info()"
   ]
  },
  {
   "cell_type": "code",
   "execution_count": null,
   "metadata": {},
   "outputs": [],
   "source": [
    "radar.info()"
   ]
  },
  {
   "cell_type": "markdown",
   "metadata": {},
   "source": [
    "For example, let's view the elevation parameter. Py-ART stores all fields as 2D masked arrays of dimensions (number of rays) x (number of gates). Therefore, as the elevation can change with each ray, the data in the elevation array is a 1D array of dimension (number of rays)"
   ]
  },
  {
   "cell_type": "code",
   "execution_count": 20,
   "metadata": {},
   "outputs": [
    {
     "name": "stderr",
     "output_type": "stream",
     "text": [
      "C:\\Users\\rjackson\\AppData\\Local\\Continuum\\Anaconda2\\envs\\pyart-2018\\lib\\site-packages\\jupyter_client\\jsonutil.py:67: DeprecationWarning: Interpreting naive datetime as local 2018-03-06 14:00:58.105000. Please add timezone info to timestamps.\n",
      "  new_obj[k] = extract_dates(v)\n"
     ]
    },
    {
     "data": {
      "text/plain": [
       "{'axis': 'radial_elevation_coordinate',\n",
       " 'comment': 'Elevation of antenna relative to the horizontal plane',\n",
       " 'data': array([ 0.6152343,  0.6152343,  0.6152343, ..., 59.93042  , 59.93042  ,\n",
       "        59.93042  ], dtype=float32),\n",
       " 'long_name': 'elevation_angle_from_horizontal_plane',\n",
       " 'standard_name': 'beam_elevation_angle',\n",
       " 'units': 'degrees'}"
      ]
     },
     "execution_count": 20,
     "metadata": {},
     "output_type": "execute_result"
    }
   ],
   "source": [
    "radar.elevation"
   ]
  },
  {
   "cell_type": "markdown",
   "metadata": {},
   "source": [
    "If we just want the elevations of one sweep, we can use the get_slice() function of the Radar object to just get the elevations from one slice:"
   ]
  },
  {
   "cell_type": "code",
   "execution_count": 32,
   "metadata": {},
   "outputs": [
    {
     "name": "stdout",
     "output_type": "stream",
     "text": [
      "[0.98052984 0.98052984 0.9832763  0.9832763  0.98052984 0.977783\n",
      " 0.97503656 0.97503656 0.98052984 0.9832763  0.9832763  0.98052984\n",
      " 0.98052984 0.98052984 0.9832763  0.9832763  0.9832763  0.9832763\n",
      " 0.9832763  0.9832763  0.9832763  0.98052984 0.97503656 0.97778326\n",
      " 0.9832763  0.9832763  0.98052984 0.977783   0.98052984 0.9832763\n",
      " 0.97778326 0.98052984 0.9832763  0.9832763  0.9832763  0.98052984\n",
      " 0.97503656 0.97778326 0.9832763  0.9832763  0.9832763  0.9832763\n",
      " 0.98052984 0.977783   0.98052984 0.9832763  0.97778326 0.97503656\n",
      " 0.98052984 0.9832763  0.977783   0.98052984 0.9832763  0.98052984\n",
      " 0.977783   0.98052984 0.9832763  0.9832763  0.9832763  0.97778326\n",
      " 0.97229    0.97503656 0.977783   0.977783   0.98052984 0.9832763\n",
      " 0.9832763  0.9832763  0.9832763  0.9832763  0.9832763  0.9832763\n",
      " 0.9832763  0.9832763  0.9832763  0.9832763  0.9832763  0.9832763\n",
      " 0.9832763  0.9832763  0.9832763  0.9832763  0.9832763  0.9832763\n",
      " 0.98052984 0.977783   0.98052984 0.9832763  0.9832763  0.9832763\n",
      " 0.9832763  0.98052984 0.977783   0.98052984 0.9832763  0.9832763\n",
      " 0.9832763  0.9832763  0.9832763  0.9832763  0.9832763  0.9832763\n",
      " 0.9832763  0.9832763  0.9832763  0.9832763  0.9832763  0.98052984\n",
      " 0.977783   0.98052984 0.9832763  0.9832763  0.9832763  0.9832763\n",
      " 0.9832763  0.9832763  0.9832763  0.9832763  0.9832763  0.9832763\n",
      " 0.98052984 0.977783   0.98052984 0.9832763  0.97778326 0.97503656\n",
      " 0.98052984 0.9832763  0.9832763  0.9832763  0.9832763  0.98052984\n",
      " 0.977783   0.98052984 0.9832763  0.9832763  0.9832763  0.9832763\n",
      " 0.9832763  0.9832763  0.9832763  0.9832763  0.9832763  0.9832763\n",
      " 0.98052984 0.977783   0.9832763  0.9832763  0.9832763  0.9832763\n",
      " 0.9832763  0.98052984 0.977783   0.98052984 0.9832763  0.9832763\n",
      " 0.9832763  0.9832763  0.98052984 0.977783   0.98052984 0.9832763\n",
      " 0.9832763  0.9832763  0.9832763  0.9832763  0.9832763  0.9832763\n",
      " 0.9832763  0.9832763  0.9832763  0.9832763  0.9832763  0.98052984\n",
      " 0.98052984 0.9832763  0.97778326 0.97503656 0.98052984 0.9832763\n",
      " 0.9832763  0.9832763  0.9832763  0.9832763  0.9832763  0.98052984\n",
      " 0.97503656 0.97778326 0.9832763  0.9832763  0.9832763  0.98052984\n",
      " 0.98052984 0.98052984 0.9832763  0.9832763  0.98052984 0.977783\n",
      " 0.98052984 0.9832763  0.9832763  0.9832763  0.9832763  0.9832763\n",
      " 0.9832763  0.9832763  0.9832763  0.9832763  0.9832763  0.9832763\n",
      " 0.9832763  0.9832763  0.9832763  0.9832763  0.98052984 0.977783\n",
      " 0.97503656 0.97503656 0.98052984 0.9832763  0.9832763  0.9832763\n",
      " 0.98052984 0.97503656 0.97229    0.97778326 0.9832763  0.98052984\n",
      " 0.977783   0.98052984 0.9832763  0.98052984 0.98052984 0.98052984\n",
      " 0.9832763  0.9832763  0.9832763  0.9832763  0.9832763  0.9832763\n",
      " 0.98052984 0.97503656 0.97778326 0.9832763  0.9832763  0.98052984\n",
      " 0.97503656 0.97778326 0.9832763  0.9832763  0.98052984 0.977783\n",
      " 0.97503656 0.97778326 0.9832763  0.9832763  0.98052984 0.97778326\n",
      " 0.97229    0.97503656 0.98052984 0.9832763  0.98052984 0.977783\n",
      " 0.98052984 0.9832763  0.9832763  0.9832763  0.9832763  0.9832763\n",
      " 0.9832763  0.9832763  0.9832763  0.98052984 0.97503656 0.97778326\n",
      " 0.9832763  0.9832763  0.98052984 0.97503656 0.97778326 0.9832763\n",
      " 0.9832763  0.9832763  0.9832763  0.9832763  0.98052984 0.97778326\n",
      " 0.9832763  0.9832763  0.9832763  0.98052984 0.97503656 0.97778326\n",
      " 0.9832763  0.9832763  0.9832763  0.9832763  0.98052984 0.97503656\n",
      " 0.97229    0.97503656 0.98052984 0.9832763  0.9832763  0.98052984\n",
      " 0.98052984 0.98052984 0.9832763  0.9832763  0.9832763  0.98052984\n",
      " 0.97503656 0.97778326 0.9832763  0.9832763  0.9832763  0.9832763\n",
      " 0.9832763  0.9832763  0.9832763  0.9832763  0.9832763  0.9832763\n",
      " 0.9832763  0.9832763  0.9832763  0.9832763  0.9832763  0.9832763\n",
      " 0.9832763  0.98052984 0.97503656 0.9832763  0.98052984 0.98052984\n",
      " 0.9832763  0.9832763  0.9832763  0.98052984 0.97503656 0.97778326\n",
      " 0.98052984 0.98052984 0.98052984 0.9832763  0.9832763  0.9832763\n",
      " 0.9832763  0.9832763  0.9832763  0.98052984 0.98052984 0.98052984\n",
      " 0.9832763  0.9832763  0.9832763  0.9832763  0.9832763  0.98052984]\n"
     ]
    },
    {
     "name": "stderr",
     "output_type": "stream",
     "text": [
      "C:\\Users\\rjackson\\AppData\\Local\\Continuum\\Anaconda2\\envs\\pyart-2018\\lib\\site-packages\\jupyter_client\\jsonutil.py:67: DeprecationWarning: Interpreting naive datetime as local 2018-03-06 14:11:25.391000. Please add timezone info to timestamps.\n",
      "  new_obj[k] = extract_dates(v)\n"
     ]
    }
   ],
   "source": [
    "x = radar.get_slice(1)\n",
    "print(radar.elevation['data'][x])"
   ]
  },
  {
   "cell_type": "markdown",
   "metadata": {},
   "source": [
    "All of the radar fields are stored in a dictionary called radar.fields. This dictionary contains entries that correspond to the field names in the file. For example. to view the array of reflectivity just do:"
   ]
  },
  {
   "cell_type": "code",
   "execution_count": 39,
   "metadata": {},
   "outputs": [
    {
     "name": "stderr",
     "output_type": "stream",
     "text": [
      "C:\\Users\\rjackson\\AppData\\Local\\Continuum\\Anaconda2\\envs\\pyart-2018\\lib\\site-packages\\jupyter_client\\jsonutil.py:67: DeprecationWarning: Interpreting naive datetime as local 2018-03-06 14:17:03.785000. Please add timezone info to timestamps.\n",
      "  new_obj[k] = extract_dates(v)\n"
     ]
    },
    {
     "data": {
      "text/plain": [
       "{'_FillValue': -9999.0,\n",
       " 'coordinates': 'elevation azimuth range',\n",
       " 'data': masked_array(\n",
       "   data=[[-53.11000061035156, -1.840000033378601, 6.489999771118164, ...,\n",
       "          -3.240000009536743, -1.690000057220459, -1.600000023841858],\n",
       "         [-52.939998626708984, -1.1299999952316284, 7.360000133514404,\n",
       "          ..., -2.5799999237060547, -4.070000171661377,\n",
       "          -0.46000000834465027],\n",
       "         [-52.91999816894531, -2.640000104904175, 7.429999828338623, ...,\n",
       "          -6.900000095367432, -3.0299999713897705, -2.759999990463257],\n",
       "         ...,\n",
       "         [-49.91999816894531, -1.649999976158142, 5.659999847412109, ...,\n",
       "          -5.849999904632568, -3.680000066757202, -5.320000171661377],\n",
       "         [-51.45000076293945, -2.559999942779541, 5.010000228881836, ...,\n",
       "          -3.7699999809265137, -3.6500000953674316, -3.7799999713897705],\n",
       "         [-53.79999923706055, -1.440000057220459, 5.960000038146973, ...,\n",
       "          -4.929999828338623, -6.090000152587891, -3.190000057220459]],\n",
       "   mask=[[False, False, False, ..., False, False, False],\n",
       "         [False, False, False, ..., False, False, False],\n",
       "         [False, False, False, ..., False, False, False],\n",
       "         ...,\n",
       "         [False, False, False, ..., False, False, False],\n",
       "         [False, False, False, ..., False, False, False],\n",
       "         [False, False, False, ..., False, False, False]],\n",
       "   fill_value=-9999.0,\n",
       "   dtype=float32),\n",
       " 'long_name': 'Reflectivity',\n",
       " 'standard_name': 'equivalent_reflectivity_factor',\n",
       " 'units': 'dBZ'}"
      ]
     },
     "execution_count": 39,
     "metadata": {},
     "output_type": "execute_result"
    }
   ],
   "source": [
    "radar.fields['reflectivity']"
   ]
  },
  {
   "cell_type": "markdown",
   "metadata": {},
   "source": [
    "This shows entries such as the data itself, coordinates, long name, and units. You can access the array with the reflectivity data itself using radar.fields['reflectivity']['data']. This is stored as a 2D masked array with dimensions (number of rays) x (number of gates)"
   ]
  },
  {
   "cell_type": "code",
   "execution_count": 40,
   "metadata": {},
   "outputs": [
    {
     "name": "stderr",
     "output_type": "stream",
     "text": [
      "C:\\Users\\rjackson\\AppData\\Local\\Continuum\\Anaconda2\\envs\\pyart-2018\\lib\\site-packages\\jupyter_client\\jsonutil.py:67: DeprecationWarning: Interpreting naive datetime as local 2018-03-06 14:18:51.805000. Please add timezone info to timestamps.\n",
      "  new_obj[k] = extract_dates(v)\n"
     ]
    },
    {
     "data": {
      "text/plain": [
       "masked_array(\n",
       "  data=[[-53.11000061035156, -1.840000033378601, 6.489999771118164, ...,\n",
       "         -3.240000009536743, -1.690000057220459, -1.600000023841858],\n",
       "        [-52.939998626708984, -1.1299999952316284, 7.360000133514404,\n",
       "         ..., -2.5799999237060547, -4.070000171661377,\n",
       "         -0.46000000834465027],\n",
       "        [-52.91999816894531, -2.640000104904175, 7.429999828338623, ...,\n",
       "         -6.900000095367432, -3.0299999713897705, -2.759999990463257],\n",
       "        ...,\n",
       "        [-49.91999816894531, -1.649999976158142, 5.659999847412109, ...,\n",
       "         -5.849999904632568, -3.680000066757202, -5.320000171661377],\n",
       "        [-51.45000076293945, -2.559999942779541, 5.010000228881836, ...,\n",
       "         -3.7699999809265137, -3.6500000953674316, -3.7799999713897705],\n",
       "        [-53.79999923706055, -1.440000057220459, 5.960000038146973, ...,\n",
       "         -4.929999828338623, -6.090000152587891, -3.190000057220459]],\n",
       "  mask=[[False, False, False, ..., False, False, False],\n",
       "        [False, False, False, ..., False, False, False],\n",
       "        [False, False, False, ..., False, False, False],\n",
       "        ...,\n",
       "        [False, False, False, ..., False, False, False],\n",
       "        [False, False, False, ..., False, False, False],\n",
       "        [False, False, False, ..., False, False, False]],\n",
       "  fill_value=-9999.0,\n",
       "  dtype=float32)"
      ]
     },
     "execution_count": 40,
     "metadata": {},
     "output_type": "execute_result"
    }
   ],
   "source": [
    "radar.fields['reflectivity']['data']"
   ]
  },
  {
   "cell_type": "markdown",
   "metadata": {},
   "source": [
    "If you just want the data from one slice, you can get the indicies for the slice using radar.get_slice()"
   ]
  },
  {
   "cell_type": "code",
   "execution_count": 42,
   "metadata": {},
   "outputs": [
    {
     "name": "stdout",
     "output_type": "stream",
     "text": [
      "[[-53.11000061035156 -1.840000033378601 6.489999771118164 ...\n",
      "  -3.240000009536743 -1.690000057220459 -1.600000023841858]\n",
      " [-52.939998626708984 -1.1299999952316284 7.360000133514404 ...\n",
      "  -2.5799999237060547 -4.070000171661377 -0.46000000834465027]\n",
      " [-52.91999816894531 -2.640000104904175 7.429999828338623 ...\n",
      "  -6.900000095367432 -3.0299999713897705 -2.759999990463257]\n",
      " ...\n",
      " [-51.45000076293945 -1.1100000143051147 7.099999904632568 ...\n",
      "  -1.0499999523162842 1.4900000095367432 -0.550000011920929]\n",
      " [-51.150001525878906 -0.9100000262260437 7.46999979019165 ...\n",
      "  -2.180000066757202 -0.6800000071525574 -2.25]\n",
      " [-52.65999984741211 -1.840000033378601 5.659999847412109 ...\n",
      "  1.4500000476837158 0.5699999928474426 1.809999942779541]]\n"
     ]
    },
    {
     "name": "stderr",
     "output_type": "stream",
     "text": [
      "C:\\Users\\rjackson\\AppData\\Local\\Continuum\\Anaconda2\\envs\\pyart-2018\\lib\\site-packages\\jupyter_client\\jsonutil.py:67: DeprecationWarning: Interpreting naive datetime as local 2018-03-06 14:19:56.686000. Please add timezone info to timestamps.\n",
      "  new_obj[k] = extract_dates(v)\n"
     ]
    }
   ],
   "source": [
    "slice_indices = radar.get_slice(0)\n",
    "print(radar.fields['reflectivity']['data'][slice_indices])"
   ]
  },
  {
   "cell_type": "markdown",
   "metadata": {},
   "source": [
    "You can also iterate over each slice by using radar.iter_slice() This example returns the mean reflectivity of each sweep."
   ]
  },
  {
   "cell_type": "code",
   "execution_count": 43,
   "metadata": {},
   "outputs": [
    {
     "name": "stdout",
     "output_type": "stream",
     "text": [
      "[1.6201527500554447, 0.21088560696998765, -0.5545996115408073, -1.165538730608013, -1.637849168593401, -2.2185167755278568, -2.7672786330544326, -3.4961842192810764, -4.244680592984441, -4.907398152974316, -5.373153090082346, -5.837250587830794, -6.286520491348713, -6.681227714097168, -7.233450163321669, -7.42737878670231, -7.807534983555095, -8.225286457466751, -8.734058159914806, -9.134024099392661, -9.540883690618154, -9.860045899547938, -10.211399954517217, -10.30493878354839]\n"
     ]
    },
    {
     "name": "stderr",
     "output_type": "stream",
     "text": [
      "C:\\Users\\rjackson\\AppData\\Local\\Continuum\\Anaconda2\\envs\\pyart-2018\\lib\\site-packages\\jupyter_client\\jsonutil.py:67: DeprecationWarning: Interpreting naive datetime as local 2018-03-06 14:20:13.294000. Please add timezone info to timestamps.\n",
      "  new_obj[k] = extract_dates(v)\n"
     ]
    }
   ],
   "source": [
    "reflectivity = [radar.fields['reflectivity']['data'][x].mean() for x in radar.iter_slice()]\n",
    "print(reflectivity)"
   ]
  },
  {
   "cell_type": "markdown",
   "metadata": {},
   "source": [
    "You can also view the important radar instrument parameters. One commonly used parameter is the nyquist velocity, which is the maximum magnitude of the velocity the radar is capable of recording before a phenomena known as aliasing occurs."
   ]
  },
  {
   "cell_type": "code",
   "execution_count": 44,
   "metadata": {},
   "outputs": [
    {
     "name": "stderr",
     "output_type": "stream",
     "text": [
      "C:\\Users\\rjackson\\AppData\\Local\\Continuum\\Anaconda2\\envs\\pyart-2018\\lib\\site-packages\\jupyter_client\\jsonutil.py:67: DeprecationWarning: Interpreting naive datetime as local 2018-03-06 14:25:31.024000. Please add timezone info to timestamps.\n",
      "  new_obj[k] = extract_dates(v)\n"
     ]
    },
    {
     "data": {
      "text/plain": [
       "array([10.695, 10.695, 10.695, ..., 10.695, 10.695, 10.695], dtype=float32)"
      ]
     },
     "execution_count": 44,
     "metadata": {},
     "output_type": "execute_result"
    }
   ],
   "source": [
    "radar.instrument_parameters['nyquist_velocity']['data']"
   ]
  },
  {
   "cell_type": "markdown",
   "metadata": {},
   "source": [
    "## Exercise\n",
    "\n",
    "Print out the mean radial velocity of each sweep."
   ]
  },
  {
   "cell_type": "code",
   "execution_count": null,
   "metadata": {},
   "outputs": [],
   "source": []
  },
  {
   "cell_type": "code",
   "execution_count": null,
   "metadata": {},
   "outputs": [],
   "source": [
    "%load section1_answer.py"
   ]
  }
 ],
 "metadata": {
  "kernelspec": {
   "display_name": "Python [conda env:pyart-2018]",
   "language": "python",
   "name": "conda-env-pyart-2018-py"
  },
  "language_info": {
   "codemirror_mode": {
    "name": "ipython",
    "version": 3
   },
   "file_extension": ".py",
   "mimetype": "text/x-python",
   "name": "python",
   "nbconvert_exporter": "python",
   "pygments_lexer": "ipython3",
   "version": "3.6.4"
  }
 },
 "nbformat": 4,
 "nbformat_minor": 2
}
