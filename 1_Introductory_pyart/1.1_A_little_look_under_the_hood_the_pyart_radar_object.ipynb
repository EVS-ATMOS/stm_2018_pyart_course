{
 "cells": [
  {
   "cell_type": "markdown",
   "metadata": {},
   "source": [
    "## 1.1. The Py-ART Radar object"
   ]
  },
  {
   "cell_type": "markdown",
   "metadata": {},
   "source": [
    "The previous section went into how to load a radar file and to provide a quick visalization of it using Py-ART. In this section, we will take a closer look at the structure of the Radar object that Py-ART uses to store the radar data.\n"
   ]
  },
  {
   "cell_type": "code",
   "execution_count": null,
   "metadata": {},
   "outputs": [],
   "source": [
    "import pyart\n",
    "import numpy as np"
   ]
  },
  {
   "cell_type": "markdown",
   "metadata": {},
   "source": [
    "First, let's load a file!"
   ]
  },
  {
   "cell_type": "code",
   "execution_count": null,
   "metadata": {},
   "outputs": [],
   "source": [
    "radar = pyart.io.read('../inf_tutorial_data/sgpxsaprcmacsurI5.c1.20170801.044013.nc')"
   ]
  },
  {
   "cell_type": "markdown",
   "metadata": {},
   "source": [
    "If we want to view the specific parameters that are in the radar object, we need to do a radar.info()"
   ]
  },
  {
   "cell_type": "code",
   "execution_count": 49,
   "metadata": {},
   "outputs": [
    {
     "name": "stdout",
     "output_type": "stream",
     "text": [
      "altitude:\n",
      "\tdata: <ndarray of type: float64 and shape: (1,)>\n",
      "\tlong_name: Altitude\n",
      "\tunits: meters\n",
      "\tstandard_name: Altitude\n",
      "\tpositive: up\n",
      "altitude_agl: None\n",
      "antenna_transition: None\n",
      "azimuth:\n",
      "\tdata: <ndarray of type: float32 and shape: (8640,)>\n",
      "\tlong_name: azimuth_angle_from_true_north\n",
      "\tunits: degrees\n",
      "\tstandard_name: beam_azimuth_angle\n",
      "\taxis: radial_azimuth_coordinate\n",
      "\tcomment: Azimuth of antenna relative to true north\n",
      "elevation:\n",
      "\tdata: <ndarray of type: float32 and shape: (8640,)>\n",
      "\tlong_name: elevation_angle_from_horizontal_plane\n",
      "\tunits: degrees\n",
      "\tstandard_name: beam_elevation_angle\n",
      "\taxis: radial_elevation_coordinate\n",
      "\tcomment: Elevation of antenna relative to the horizontal plane\n",
      "fields:\n",
      "\ttotal_power:\n",
      "\t\tdata: <ndarray of type: float32 and shape: (8640, 501)>\n",
      "\t\tlong_name: Total power\n",
      "\t\tunits: dBZ\n",
      "\t\t_FillValue: -9999.0\n",
      "\t\tstandard_name: equivalent_reflectivity_factor\n",
      "\t\tcoordinates: elevation azimuth range\n",
      "\treflectivity:\n",
      "\t\tdata: <ndarray of type: float32 and shape: (8640, 501)>\n",
      "\t\tlong_name: Reflectivity\n",
      "\t\tunits: dBZ\n",
      "\t\t_FillValue: -9999.0\n",
      "\t\tstandard_name: equivalent_reflectivity_factor\n",
      "\t\tcoordinates: elevation azimuth range\n",
      "\tvelocity:\n",
      "\t\tdata: <ndarray of type: float32 and shape: (8640, 501)>\n",
      "\t\tlong_name: Mean dopper velocity\n",
      "\t\tunits: meters_per_second\n",
      "\t\t_FillValue: -9999.0\n",
      "\t\tstandard_name: radial_velocity_of_scatterers_away_from_instrument\n",
      "\t\tcoordinates: elevation azimuth range\n",
      "\tspectrum_width:\n",
      "\t\tdata: <ndarray of type: float32 and shape: (8640, 501)>\n",
      "\t\tlong_name: Doppler spectrum width\n",
      "\t\tunits: meters_per_second\n",
      "\t\t_FillValue: -9999.0\n",
      "\t\tstandard_name: doppler_spectrum_width\n",
      "\t\tcoordinates: elevation azimuth range\n",
      "\tdifferential_reflectivity:\n",
      "\t\tdata: <ndarray of type: float32 and shape: (8640, 501)>\n",
      "\t\tlong_name: Differential reflectivity\n",
      "\t\tunits: dB\n",
      "\t\t_FillValue: -9999.0\n",
      "\t\tstandard_name: log_differential_reflectivity_hv\n",
      "\t\tcoordinates: elevation azimuth range\n",
      "\tspecific_differential_phase:\n",
      "\t\tdata: <ndarray of type: float32 and shape: (8640, 501)>\n",
      "\t\tlong_name: Specific differential phase (KDP)\n",
      "\t\tunits: degrees/km\n",
      "\t\t_FillValue: -9999.0\n",
      "\t\tstandard_name: specific_differential_phase_hv\n",
      "\t\tcoordinates: elevation azimuth range\n",
      "\tcross_correlation_ratio:\n",
      "\t\tdata: <ndarray of type: float32 and shape: (8640, 501)>\n",
      "\t\tlong_name: Cross correlation ratio (RHOHV)\n",
      "\t\tunits: ratio\n",
      "\t\t_FillValue: -9999.0\n",
      "\t\tstandard_name: cross_correlation_ratio_hv\n",
      "\t\tvalid_max: 1.0\n",
      "\t\tvalid_min: 0.0\n",
      "\t\tcoordinates: elevation azimuth range\n",
      "\tnormalized_coherent_power:\n",
      "\t\tdata: <ndarray of type: float32 and shape: (8640, 501)>\n",
      "\t\tlong_name: Normalized coherent power\n",
      "\t\tunits: ratio\n",
      "\t\t_FillValue: -9999.0\n",
      "\t\tstandard_name: normalized_coherent_power\n",
      "\t\tvalid_max: 1.0\n",
      "\t\tvalid_min: 0.0\n",
      "\t\tcomment: Also know as signal quality index (SQI)\n",
      "\t\tcoordinates: elevation azimuth range\n",
      "\tdifferential_phase:\n",
      "\t\tdata: <ndarray of type: float32 and shape: (8640, 501)>\n",
      "\t\tlong_name: Differential phase (PhiDP)\n",
      "\t\tunits: degrees\n",
      "\t\t_FillValue: -9999.0\n",
      "\t\tstandard_name: differential_phase_hv\n",
      "\t\tvalid_max: 180.0\n",
      "\t\tvalid_min: -180.0\n",
      "\t\tcoordinates: elevation azimuth range\n",
      "\txsapr_clutter:\n",
      "\t\tdata: <ndarray of type: float64 and shape: (8640, 501)>\n",
      "\t\tlong_name: X-SAPR Clutter\n",
      "\t\tunits: unitless\n",
      "\t\tstandard_name: xsapr_clutter\n",
      "\t\tnotes: 0: No Clutter, 1: Clutter\n",
      "\tsounding_temperature:\n",
      "\t\tdata: <ndarray of type: float64 and shape: (8640, 501)>\n",
      "\t\tlong_name: Interpolated profile\n",
      "\t\tunits: unknown\n",
      "\t\tstandard_name: interpolated_profile\n",
      "\theight:\n",
      "\t\tdata: <ndarray of type: float64 and shape: (8640, 501)>\n",
      "\t\tlong_name: Height of radar beam\n",
      "\t\tunits: meters\n",
      "\t\tstandard_name: height\n",
      "\tSNR:\n",
      "\t\tdata: <ndarray of type: float64 and shape: (8640, 501)>\n",
      "\t\tlong_name: Signal to noise ratio\n",
      "\t\tunits: dB\n",
      "\t\tstandard_name: signal_to_noise_ratio\n",
      "\t\tcoordinates: elevation azimuth range\n",
      "\tvelocity_texture:\n",
      "\t\tdata: <ndarray of type: float64 and shape: (8640, 501)>\n",
      "\t\tlong_name: Mean dopper velocity\n",
      "\t\tunits: meters_per_second\n",
      "\t\tstandard_name: radial_velocity_of_scatterers_away_from_instrument\n",
      "\t\tcoordinates: elevation azimuth range\n",
      "\tgate_id:\n",
      "\t\tdata: <ndarray of type: int64 and shape: (8640, 501)>\n",
      "\t\tlong_name: Classification of dominant scatterer\n",
      "\t\tunits: \n",
      "\t\tstandard_name: gate_id\n",
      "\t\tnotes: 0:multi_trip,1:rain,2:snow,3:no_scatter,4:melting,5:clutter\n",
      "\t\tvalid_max: 5\n",
      "\t\tvalid_min: 0.0\n",
      "\tcorrected_velocity:\n",
      "\t\tdata: <ndarray of type: float32 and shape: (8640, 501)>\n",
      "\t\tlong_name: Corrected mean doppler velocity\n",
      "\t\tunits: meters_per_second\n",
      "\t\t_FillValue: -9999.0\n",
      "\t\tstandard_name: corrected_radial_velocity_of_scatterers_away_from_instrument\n",
      "\t\tcoordinates: elevation azimuth range\n",
      "\t\tvalid_min: -32.084999084472656\n",
      "\t\tvalid_max: 32.084999084472656\n",
      "\tunfolded_differential_phase:\n",
      "\t\tdata: <ndarray of type: float64 and shape: (8640, 501)>\n",
      "\t\tlong_name: Differential phase (PhiDP)\n",
      "\t\tunits: degrees\n",
      "\t\t_FillValue: -9999.0\n",
      "\t\tstandard_name: differential_phase_hv\n",
      "\t\tvalid_max: 180.0\n",
      "\t\tvalid_min: -180.0\n",
      "\t\tcoordinates: elevation azimuth range\n",
      "\tcorrected_differential_phase:\n",
      "\t\tdata: <ndarray of type: float64 and shape: (8640, 501)>\n",
      "\t\tlong_name: Differential phase (PhiDP)\n",
      "\t\tunits: degrees\n",
      "\t\t_FillValue: -9999.0\n",
      "\t\tstandard_name: differential_phase_hv\n",
      "\t\tvalid_max: 400.0\n",
      "\t\tvalid_min: 0.0\n",
      "\t\tcoordinates: elevation azimuth range\n",
      "\tfiltered_corrected_differential_phase:\n",
      "\t\tdata: <ndarray of type: float64 and shape: (8640, 501)>\n",
      "\t\tlong_name: Differential phase (PhiDP)\n",
      "\t\tunits: degrees\n",
      "\t\t_FillValue: -9999.0\n",
      "\t\tstandard_name: differential_phase_hv\n",
      "\t\tvalid_max: 400.0\n",
      "\t\tvalid_min: 0.0\n",
      "\t\tcoordinates: elevation azimuth range\n",
      "\tcorrected_specific_diff_phase:\n",
      "\t\tdata: <ndarray of type: float64 and shape: (8640, 501)>\n",
      "\t\tlong_name: Specific differential phase (KDP)\n",
      "\t\tunits: degrees/km\n",
      "\t\t_FillValue: -9999.0\n",
      "\t\tstandard_name: specific_differential_phase_hv\n",
      "\t\tcoordinates: elevation azimuth range\n",
      "\tfiltered_corrected_specific_diff_phase:\n",
      "\t\tdata: <ndarray of type: float64 and shape: (8640, 501)>\n",
      "\t\tlong_name: Specific differential phase (KDP)\n",
      "\t\tunits: degrees/km\n",
      "\t\t_FillValue: -9999.0\n",
      "\t\tstandard_name: specific_differential_phase_hv\n",
      "\t\tcoordinates: elevation azimuth range\n",
      "\tspecific_attenuation:\n",
      "\t\tdata: <ndarray of type: float32 and shape: (8640, 501)>\n",
      "\t\tlong_name: Specific attenuation\n",
      "\t\tunits: dB/km\n",
      "\t\t_FillValue: -9999.0\n",
      "\t\tstandard_name: specific_attenuation\n",
      "\t\tvalid_min: 0.0\n",
      "\t\tvalid_max: 1.0\n",
      "\t\tcoordinates: elevation azimuth range\n",
      "\tattenuation_corrected_reflectivity:\n",
      "\t\tdata: <ndarray of type: float32 and shape: (8640, 501)>\n",
      "\t\tlong_name: Corrected reflectivity\n",
      "\t\tunits: dBZ\n",
      "\t\t_FillValue: -9999.0\n",
      "\t\tstandard_name: corrected_equivalent_reflectivity_factor\n",
      "\t\tcoordinates: elevation azimuth range\n",
      "\train_rate_A:\n",
      "\t\tdata: <ndarray of type: float32 and shape: (8640, 501)>\n",
      "\t\tlong_name: rainfall_rate\n",
      "\t\tunits: mm/hr\n",
      "\t\t_FillValue: -9999.0\n",
      "\t\tstandard_name: rainfall_rate\n",
      "\t\tvalid_min: 0.0\n",
      "\t\tvalid_max: 400.0\n",
      "\t\tcoordinates: elevation azimuth range\n",
      "\t\tleast_significant_digit: 1\n",
      "\t\tcomment: Rain rate calculated from specific_attenuation, R=51.3*specific_attenuation**0.81, note R=0.0 where norm coherent power < 0.4 or rhohv < 0.8\n",
      "fixed_angle:\n",
      "\tdata: <ndarray of type: float32 and shape: (24,)>\n",
      "\tlong_name: Target angle for sweep\n",
      "\tunits: degrees\n",
      "\tstandard_name: target_fixed_angle\n",
      "instrument_parameters:\n",
      "\tpulse_width:\n",
      "\t\tdata: <ndarray of type: float32 and shape: (8640,)>\n",
      "\t\tlong_name: Pulse width\n",
      "\t\tunits: seconds\n",
      "\t\tcomments: Pulse width\n",
      "\t\tmeta_group: instrument_parameters\n",
      "\tprt_mode:\n",
      "\t\tdata: <ndarray of type: |S1 and shape: (24, 32)>\n",
      "\t\tlong_name: Pulsing mode\n",
      "\t\tunits: unitless\n",
      "\t\tcomments: Pulsing mode Options are: \"fixed\", \"staggered\", \"dual\". Assumed \"fixed\" if missing.\n",
      "\t\tmeta_group: instrument_parameters\n",
      "\tprt:\n",
      "\t\tdata: <ndarray of type: float32 and shape: (8640,)>\n",
      "\t\tlong_name: Pulse repetition time\n",
      "\t\tunits: seconds\n",
      "\t\tcomments: Pulse repetition time. For staggered prt, also see prt_ratio.\n",
      "\t\tmeta_group: instrument_parameters\n",
      "\tprt_ratio:\n",
      "\t\tdata: <ndarray of type: float32 and shape: (8640,)>\n",
      "\t\tlong_name: Pulse repetition frequency ratio\n",
      "\t\tunits: unitless\n",
      "\t\tmeta_group: instrument_parameters\n",
      "\tnyquist_velocity:\n",
      "\t\tdata: <ndarray of type: float32 and shape: (8640,)>\n",
      "\t\tlong_name: Nyquist velocity\n",
      "\t\tunits: meters_per_second\n",
      "\t\tcomments: Unambiguous velocity\n",
      "\t\tmeta_group: instrument_parameters\n",
      "\tunambiguous_range:\n",
      "\t\tdata: <ndarray of type: float32 and shape: (8640,)>\n",
      "\t\tlong_name: Unambiguous range\n",
      "\t\tunits: meters\n",
      "\t\tcomments: Unambiguous range\n",
      "\t\tmeta_group: instrument_parameters\n",
      "\tradar_beam_width_h:\n",
      "\t\tdata: <ndarray of type: float32 and shape: (1,)>\n",
      "\t\tlong_name: Antenna beam width H polarization\n",
      "\t\tunits: degrees\n",
      "\t\tmeta_group: radar_parameters\n",
      "\tradar_beam_width_v:\n",
      "\t\tdata: <ndarray of type: float32 and shape: (1,)>\n",
      "\t\tlong_name: Antenna beam width V polarization\n",
      "\t\tunits: degrees\n",
      "\t\tmeta_group: radar_parameters\n",
      "latitude:\n",
      "\tdata: <ndarray of type: float64 and shape: (1,)>\n",
      "\tlong_name: Latitude\n",
      "\tunits: degrees_north\n",
      "\tstandard_name: Latitude\n",
      "longitude:\n",
      "\tdata: <ndarray of type: float64 and shape: (1,)>\n",
      "\tlong_name: Longitude\n",
      "\tunits: degrees_east\n",
      "\tstandard_name: Longitude\n",
      "nsweeps: 24\n",
      "ngates: 501\n",
      "nrays: 8640\n",
      "radar_calibration: None\n",
      "range:\n",
      "\tdata: <ndarray of type: float32 and shape: (501,)>\n",
      "\tlong_name: range_to_measurement_volume\n",
      "\tunits: meters\n",
      "\tstandard_name: projection_range_coordinate\n",
      "\taxis: radial_range_coordinate\n",
      "\tspacing_is_constant: true\n",
      "\tcomment: Coordinate variable for range. Range to center of each bin.\n",
      "\tmeters_to_center_of_first_gate: 0.0\n",
      "\tmeters_between_gates: 100.0\n",
      "scan_rate: None\n",
      "scan_type: ppi\n",
      "sweep_end_ray_index:\n",
      "\tdata: <ndarray of type: int32 and shape: (24,)>\n",
      "\tlong_name: Index of last ray in sweep, 0-based\n",
      "\tunits: count\n",
      "sweep_mode:\n",
      "\tdata: <ndarray of type: |S1 and shape: (24, 32)>\n",
      "\tlong_name: Sweep mode\n",
      "\tunits: unitless\n",
      "\tstandard_name: sweep_mode\n",
      "\tcomment: Options are: \"sector\", \"coplane\", \"rhi\", \"vertical_pointing\", \"idle\", \"azimuth_surveillance\", \"elevation_surveillance\", \"sunscan\", \"pointing\", \"manual_ppi\", \"manual_rhi\"\n",
      "sweep_number:\n",
      "\tdata: <ndarray of type: int32 and shape: (24,)>\n",
      "\tlong_name: Sweep number\n",
      "\tunits: count\n",
      "\tstandard_name: sweep_number\n",
      "sweep_start_ray_index:\n",
      "\tdata: <ndarray of type: int32 and shape: (24,)>\n",
      "\tlong_name: Index of first ray in sweep, 0-based\n",
      "\tunits: count\n",
      "target_scan_rate: None\n",
      "time:\n",
      "\tdata: <ndarray of type: float64 and shape: (8640,)>\n",
      "\tlong_name: time_in_seconds_since_volume_start\n",
      "\tunits: seconds since 2017-08-01T04:40:04Z\n",
      "\tstandard_name: time\n",
      "\tcalendar: gregorian\n",
      "\tcomment: Coordinate variable for time. Time at the center of each ray, in fractional seconds since the global variable time_coverage_start\n",
      "metadata:\n",
      "\tConventions: CF/Radial instrument_parameters\n",
      "\tversion: 2.0 lite\n",
      "\ttitle: \n",
      "\tinstitution: \n",
      "\treferences: \n",
      "\tsource: \n",
      "\tcomment: This is highly experimental and initial data. There are manyknown and unknown issues. Please do not use beforecontacting the Translator responsible scollis@anl.gov\n",
      "\tinstrument_name: xsapr-sgpr2\n",
      "\toriginal_container: sigmet\n",
      "\tsigmet_task_name: OPS_PPIV    \n",
      "\tsigmet_extended_header: true\n",
      "\ttime_ordered: none\n",
      "\trays_missing: 0\n",
      "\tsite_id: sgp\n",
      "\tfacility_id: i5: Garber, Ok\n",
      "\tdata_level: c1\n",
      "\tattributions: This data is collected by the ARM Climate Research facility.Radar system is operated by the radar engineering teamradar@arm.gov and the data is processed by the precipitationradar products team. LP code courtesy of Scott GiangrandeBNL.\n",
      "\tvap_name: cmac\n",
      "\tknown_issues: False phidp jumps in insect regions. Still uses oldGiangrande code.\n",
      "\tcommand_line:  /home/zsherman/anaconda3/envs/cmac_env/bin/dask-worker --nprocs 16 --nthreads 1 --scheduler-file=/home/zsherman/scheduler.json --local-directory=/home/zsherman/temp_dir\n",
      "\tdevelopers: Robert Jackson, ANL. Zachary Sherman, ANL.\n",
      "\ttranslator: Scott Collis, ANL.\n",
      "\tmentors: Nitin Bharadwaj, PNNL. Bradley Isom, PNNL.Joseph Hardin, PNNL. Iosif Lindenmaier, PNNL.\n",
      "\tfield_names: total_power, reflectivity, velocity, spectrum_width, differential_reflectivity, specific_differential_phase, cross_correlation_ratio, normalized_coherent_power, differential_phase, xsapr_clutter, sounding_temperature, height, SNR, velocity_texture, gate_id, corrected_velocity, unfolded_differential_phase, corrected_differential_phase, filtered_corrected_differential_phase, corrected_specific_diff_phase, filtered_corrected_specific_diff_phase, specific_attenuation, attenuation_corrected_reflectivity, rain_rate_A\n",
      "\thistory: \n",
      "\tvolume_number: 0\n",
      "\tplatform_type: fixed\n",
      "\tinstrument_type: radar\n",
      "\tprimary_axis: axis_z\n"
     ]
    },
    {
     "name": "stderr",
     "output_type": "stream",
     "text": [
      "C:\\Users\\rjackson\\AppData\\Local\\Continuum\\Anaconda2\\envs\\pyart-2018\\lib\\site-packages\\jupyter_client\\jsonutil.py:67: DeprecationWarning: Interpreting naive datetime as local 2018-03-06 14:46:18.918000. Please add timezone info to timestamps.\n",
      "  new_obj[k] = extract_dates(v)\n"
     ]
    }
   ],
   "source": [
    "radar.info()"
   ]
  },
  {
   "cell_type": "markdown",
   "metadata": {},
   "source": [
    "For example, let's view the elevation parameter. Py-ART stores all fields as 2D masked arrays of dimensions (number of rays) x (number of gates). Therefore, as the elevation can change with each ray, the data in the elevation array is a 1D array of dimension (number of rays)"
   ]
  },
  {
   "cell_type": "code",
   "execution_count": null,
   "metadata": {},
   "outputs": [],
   "source": [
    "radar.elevation"
   ]
  },
  {
   "cell_type": "markdown",
   "metadata": {},
   "source": [
    "If we just want the elevations of one sweep, we can use the get_slice() function of the Radar object to just get the elevations from one slice:"
   ]
  },
  {
   "cell_type": "code",
   "execution_count": null,
   "metadata": {},
   "outputs": [],
   "source": [
    "x = radar.get_slice(1)\n",
    "print(radar.elevation['data'][x])"
   ]
  },
  {
   "cell_type": "markdown",
   "metadata": {},
   "source": [
    "All of the radar fields are stored in a dictionary called radar.fields. This dictionary contains entries that correspond to the field names in the file. For example. to view the array of reflectivity just do:"
   ]
  },
  {
   "cell_type": "code",
   "execution_count": null,
   "metadata": {},
   "outputs": [],
   "source": [
    "radar.fields['reflectivity']"
   ]
  },
  {
   "cell_type": "markdown",
   "metadata": {},
   "source": [
    "This shows entries such as the data itself, coordinates, long name, and units. You can access the array with the reflectivity data itself using radar.fields['reflectivity']['data']. This is stored as a 2D masked array with dimensions (number of rays) x (number of gates)"
   ]
  },
  {
   "cell_type": "code",
   "execution_count": null,
   "metadata": {},
   "outputs": [],
   "source": [
    "radar.fields['reflectivity']['data']"
   ]
  },
  {
   "cell_type": "markdown",
   "metadata": {},
   "source": [
    "If you just want the data from one slice, you can get the indicies for the slice using radar.get_slice()"
   ]
  },
  {
   "cell_type": "code",
   "execution_count": null,
   "metadata": {},
   "outputs": [],
   "source": [
    "slice_indices = radar.get_slice(0)\n",
    "print(radar.fields['reflectivity']['data'][slice_indices])"
   ]
  },
  {
   "cell_type": "markdown",
   "metadata": {},
   "source": [
    "You can also iterate over each slice by using radar.iter_slice() This example returns the mean reflectivity of each sweep."
   ]
  },
  {
   "cell_type": "code",
   "execution_count": null,
   "metadata": {},
   "outputs": [],
   "source": [
    "reflectivity = [radar.fields['reflectivity']['data'][x].mean() for x in radar.iter_slice()]\n",
    "print(reflectivity)"
   ]
  },
  {
   "cell_type": "markdown",
   "metadata": {},
   "source": [
    "You can also view the important radar instrument parameters. One commonly used parameter is the nyquist velocity, which is the maximum magnitude of the velocity the radar is capable of recording before a phenomena known as aliasing occurs."
   ]
  },
  {
   "cell_type": "code",
   "execution_count": null,
   "metadata": {},
   "outputs": [],
   "source": [
    "radar.instrument_parameters['nyquist_velocity']['data']"
   ]
  },
  {
   "cell_type": "markdown",
   "metadata": {},
   "source": [
    "## Exercise\n",
    "\n",
    "Print out the mean radial velocity of each sweep."
   ]
  },
  {
   "cell_type": "code",
   "execution_count": null,
   "metadata": {},
   "outputs": [],
   "source": []
  },
  {
   "cell_type": "code",
   "execution_count": null,
   "metadata": {},
   "outputs": [],
   "source": [
    "%load section1_answer.py"
   ]
  }
 ],
 "metadata": {
  "kernelspec": {
   "display_name": "Python [conda env:pyart-2018]",
   "language": "python",
   "name": "conda-env-pyart-2018-py"
  },
  "language_info": {
   "codemirror_mode": {
    "name": "ipython",
    "version": 3
   },
   "file_extension": ".py",
   "mimetype": "text/x-python",
   "name": "python",
   "nbconvert_exporter": "python",
   "pygments_lexer": "ipython3",
   "version": "3.6.4"
  }
 },
 "nbformat": 4,
 "nbformat_minor": 2
}
