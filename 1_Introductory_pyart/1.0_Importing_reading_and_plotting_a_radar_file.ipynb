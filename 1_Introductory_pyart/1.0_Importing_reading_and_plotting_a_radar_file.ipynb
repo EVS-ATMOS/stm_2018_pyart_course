{
 "cells": [
  {
   "cell_type": "markdown",
   "metadata": {},
   "source": [
    "# Pyart 1.0: Importing, Reading and Plotting a Radar File"
   ]
  },
  {
   "cell_type": "markdown",
   "metadata": {},
   "source": [
    "Let us start we an introductory on what is Py-ART, then after we will begin to code away."
   ]
  },
  {
   "cell_type": "markdown",
   "metadata": {},
   "source": [
    "The Python ARM Radar Toolkit or Py-ART:\n",
    "\n",
    " * Py-ART is a Python module for plotting, correcting and analyzing weather radar data.\n",
    " * Development began to address the needs of ARM with the acquisition of a number of\n",
    "   new scanning cloud and precipitation radar as part of the American Recovery Act.\n",
    " * The project has since expanded to work with a variety of weather radars and a wider user\n",
    "   base including radar researchers and climate modelers.\n",
    " * The software has been released on GitHub as open source software under a BSD license.\n",
    "   Runs on Linux, OS X. It also runs on Windows with more limited functionality.\n",
    "   \n",
    "Contributions from others are always welcome."
   ]
  },
  {
   "cell_type": "markdown",
   "metadata": {},
   "source": [
    "What can Py-ART do?\n",
    "Py-ART can be used for a variety of tasks from basic plotting to more complex\n",
    "processing pipelines. Specific uses for Py-ART include:\n",
    "\n",
    " * Reading radar data in a variety of file formats.\n",
    " * Creating plots and visualization of radar data.\n",
    " * Correcting radar moments while in antenna coordinates, such as:\n",
    "    * Doppler unfolding/de-aliasing.\n",
    "    * Attenuation correction.\n",
    "    * Phase processing using a Linear Programming method.\n",
    " * Mapping data from one or multiple radars onto a Cartesian grid.\n",
    " * Performing retrievals.\n",
    " * Writing radial and Cartesian data to NetCDF files."
   ]
  },
  {
   "cell_type": "markdown",
   "metadata": {},
   "source": [
    "Py-ART essentials links:\n",
    " * Landing page, [arm-doe.github.io/pyart/](http://arm-doe.github.io/pyart/)\n",
    " * Documentation, [arm-doe.github.io/pyart-docs-travis/](http://arm-doe.github.io/pyart-docs-travis/)\n",
    " * Examples, [arm-doe.github.io/pyart/dev/auto_examples/index.html](http://arm-doe.github.io/pyart/dev/auto_examples/index.html)\n",
    " * Source Code, [github.com/ARM-DOE/pyart](https://github.com/ARM-DOE/pyart)\n",
    " * Mailing list, [groups.google.com/group/pyart-users/](http://groups.google.com/group/pyart-users/)\n",
    " * Issue Tracker, [github.com/ARM-DOE/pyart/issues](https://github.com/ARM-DOE/pyart/issues)"
   ]
  },
  {
   "cell_type": "markdown",
   "metadata": {},
   "source": [
    "Now that we know what Py-ART is, let us began coding."
   ]
  },
  {
   "cell_type": "markdown",
   "metadata": {},
   "source": [
    "First we want to import any modules that will be needed."
   ]
  },
  {
   "cell_type": "code",
   "execution_count": null,
   "metadata": {},
   "outputs": [],
   "source": [
    "import cartopy.crs as ccrs\n",
    "import matplotlib.pyplot as plt\n",
    "import numpy as np\n",
    "import pyart"
   ]
  },
  {
   "cell_type": "markdown",
   "metadata": {},
   "source": [
    "When reading in a radar file, we use the pyart.io.read module.\n",
    "pyart.io.read can read a variety of different radar formats, such as Cf/Radial, LASSEN, and more. \n",
    "The documentation on what formats can be read by Py-ART can be found here:\n",
    "\n",
    "http://arm-doe.github.io/pyart-docs-travis/user_reference/io.html\n",
    "\n",
    "For most file formats listed on the page, using pyart.io.read should suffice since Py-ART has the ability to automatically detect the file format."
   ]
  },
  {
   "cell_type": "markdown",
   "metadata": {},
   "source": [
    "To read a radar file:"
   ]
  },
  {
   "cell_type": "code",
   "execution_count": null,
   "metadata": {},
   "outputs": [],
   "source": [
    "radar = pyart.io.read('../inf_tutorial_data/sgpxsaprcmacsurI5.c1.20170801.044013.nc')"
   ]
  },
  {
   "cell_type": "markdown",
   "metadata": {},
   "source": [
    "When reading a radar file, there are a few options to add, such as excluding radar fields. Excluding fields becomes useful when you are loading many radar files at a time and want to conserve memory and save time."
   ]
  },
  {
   "cell_type": "markdown",
   "metadata": {},
   "source": [
    "To see the full list of parameters, in a Jupyter Notebook, simply add a question mark after the function."
   ]
  },
  {
   "cell_type": "code",
   "execution_count": null,
   "metadata": {},
   "outputs": [],
   "source": [
    "pyart.io.read?"
   ]
  },
  {
   "cell_type": "markdown",
   "metadata": {},
   "source": [
    "After reading a file, a radar object is created. The object contains a variety of metadata from the radar.\n",
    "In the next notebook we will go into more detail of the radar object."
   ]
  },
  {
   "cell_type": "markdown",
   "metadata": {},
   "source": [
    "In the radar object are fields. This is where data such as reflectivity and velocity are stored.\n",
    "To see what fields are present we can add the fields and keys additions to the variable where the\n",
    "radar object is stored."
   ]
  },
  {
   "cell_type": "code",
   "execution_count": null,
   "metadata": {},
   "outputs": [],
   "source": [
    "radar.fields.keys()"
   ]
  },
  {
   "cell_type": "markdown",
   "metadata": {},
   "source": [
    "The fields are stored in a dictionary, each containing coordinates, units and more.\n",
    "All can be accessed by just adding the fields addition to the radar object variable.\n",
    "For an individual field, we add a string in brackets after the fields addition to see\n",
    "the contents of that field."
   ]
  },
  {
   "cell_type": "code",
   "execution_count": null,
   "metadata": {},
   "outputs": [],
   "source": [
    "print(radar.fields)"
   ]
  },
  {
   "cell_type": "code",
   "execution_count": null,
   "metadata": {},
   "outputs": [],
   "source": [
    "print(radar.fields['reflectivity'])"
   ]
  },
  {
   "cell_type": "markdown",
   "metadata": {},
   "source": [
    "We can go even further in the dictionary and a see within the reflectivity field by accessing the units or data itself.\n",
    "For example add the string data in brackets after the reflectivity string bracket."
   ]
  },
  {
   "cell_type": "code",
   "execution_count": null,
   "metadata": {},
   "outputs": [],
   "source": [
    "print(radar.fields['reflectivity']['data'])"
   ]
  },
  {
   "cell_type": "code",
   "execution_count": null,
   "metadata": {},
   "outputs": [],
   "source": [
    "print(radar.fields['reflectivity']['data'][300, 2])"
   ]
  },
  {
   "cell_type": "markdown",
   "metadata": {},
   "source": [
    "Finally, for a more condensed view of the radar object, just use radar.info()."
   ]
  },
  {
   "cell_type": "code",
   "execution_count": null,
   "metadata": {},
   "outputs": [],
   "source": [
    "radar.info()"
   ]
  },
  {
   "cell_type": "markdown",
   "metadata": {},
   "source": [
    "Now that we have loaded the data and inspected it, the next logical thing to do is to visualize the data! Py-ART's visualiation functionality is done through the objects in the pyart.graph module: \n",
    "\n",
    "http://arm-doe.github.io/pyart-docs-travis/user_reference/graph.html\n",
    "\n",
    "In Py-ART there are 5 visualization classes in pyart.graph:\n",
    "\n",
    "* RadarDisplay\t                            \n",
    "* RadarMapDisplay\t                        \n",
    "* AirborneRadarDisplay\t                    \n",
    "* RadarMapDisplayCartopy                    \n",
    "\n",
    "Plotting grid data\n",
    "* GridMapDisplay\n",
    "\n",
    "For the examples in this tutorial, we will be using RadarMapDisplayCartopy. There are two main libraries in Python for plotting geographic data that are used by Py-ART: Cartopy and Basemap. For this example, we are going to use Cartopy to plot our data. Basemap will be deprecated in 2020, so it is recommended to use Cartopy whenever possible. "
   ]
  },
  {
   "cell_type": "markdown",
   "metadata": {},
   "source": [
    "To display a radar image using Cartopy, we create a figure first and then create a RadarMapDisplayCartopy object from the radar. The following example displays the reflectivity from the radar."
   ]
  },
  {
   "cell_type": "code",
   "execution_count": null,
   "metadata": {},
   "outputs": [],
   "source": [
    "fig = plt.figure(figsize=[8, 8])\n",
    "display = pyart.graph.RadarMapDisplayCartopy(radar)\n",
    "display.plot_ppi_map('reflectivity', sweep=2, resolution='50m',\n",
    "                     vmin=-8, vmax=64, min_lon=-98.25, max_lon=-96.75,\n",
    "                     min_lat=35.75, max_lat=37.25,\n",
    "                     projection=ccrs.PlateCarree(), cmap='pyart_LangRainbow12')\n",
    "plt.show()"
   ]
  },
  {
   "cell_type": "markdown",
   "metadata": {},
   "source": [
    "You can change many parameters in the graph by changing the arguments to plot_ppi_map. As you can recall from earlier. simply view these arguments in a Jupyter notebook by typing:"
   ]
  },
  {
   "cell_type": "code",
   "execution_count": null,
   "metadata": {},
   "outputs": [],
   "source": [
    "display.plot_ppi_map?"
   ]
  },
  {
   "cell_type": "markdown",
   "metadata": {},
   "source": [
    "For example, let's change the colormap to something different"
   ]
  },
  {
   "cell_type": "code",
   "execution_count": null,
   "metadata": {},
   "outputs": [],
   "source": [
    "fig = plt.figure(figsize=[8, 8])\n",
    "display = pyart.graph.RadarMapDisplayCartopy(radar)\n",
    "display.plot_ppi_map('reflectivity', sweep=2, resolution='50m',\n",
    "                     vmin=-8, vmax=64, min_lon=-98.25, max_lon=-96.75,\n",
    "                     min_lat=35.75, max_lat=37.25,\n",
    "                     projection=ccrs.PlateCarree(), cmap='pyart_Gray9')\n",
    "plt.show()"
   ]
  },
  {
   "cell_type": "markdown",
   "metadata": {},
   "source": [
    "Or, let's view a different elevation scan!"
   ]
  },
  {
   "cell_type": "code",
   "execution_count": null,
   "metadata": {},
   "outputs": [],
   "source": [
    "fig = plt.figure(figsize=[8, 8])\n",
    "display = pyart.graph.RadarMapDisplayCartopy(radar)\n",
    "display.plot_ppi_map('reflectivity', sweep=0, resolution='50m',\n",
    "                     vmin=-8, vmax=64, min_lon=-98.25, max_lon=-96.75,\n",
    "                     min_lat=35.75, max_lat=37.25,\n",
    "                     projection=ccrs.PlateCarree(), cmap='pyart_LangRainbow12')\n",
    "plt.show()"
   ]
  },
  {
   "cell_type": "markdown",
   "metadata": {},
   "source": [
    "Or, display radial velocity instead of reflectivity."
   ]
  },
  {
   "cell_type": "code",
   "execution_count": null,
   "metadata": {},
   "outputs": [],
   "source": [
    "fig = plt.figure(figsize=[8, 8])\n",
    "display = pyart.graph.RadarMapDisplayCartopy(radar)\n",
    "display.plot_ppi_map('velocity', sweep=2, resolution='50m',\n",
    "                     vmin=-30, vmax=30, min_lon=-98.25, max_lon=-96.75,\n",
    "                     min_lat=35.75, max_lat=37.25,\n",
    "                     projection=ccrs.PlateCarree(), cmap='coolwarm')\n",
    "plt.show()"
   ]
  },
  {
   "cell_type": "markdown",
   "metadata": {},
   "source": [
    "## Exercise\n",
    "\n",
    "Now that the basics of loading and processing Cf/Radial files has been introduced, let's go ahead use what we have learned to load and plot a file from the CPOL radar in Darwin. This file is located on your thumb drives as cfrad.20060120_005000.000_to_20060120_005810.000_CPOL_PPI_level1a.nc. Play around with changing factors such as the field plotted, color scale, color maps, axes limits to get a feel for how to visualize radar data with Py-ART."
   ]
  },
  {
   "cell_type": "code",
   "execution_count": null,
   "metadata": {
    "collapsed": true
   },
   "outputs": [],
   "source": []
  },
  {
   "cell_type": "markdown",
   "metadata": {},
   "source": [
    "Press shift-Enter in the below cell for a possible answer. There are many ways to visualize data using Py-ART, so the answer here is not necessarily the only one!"
   ]
  },
  {
   "cell_type": "code",
   "execution_count": null,
   "metadata": {
    "scrolled": true
   },
   "outputs": [],
   "source": [
    "%load section0_answer.py"
   ]
  }
 ],
 "metadata": {
  "kernelspec": {
   "display_name": "Python [conda env:pyart-2018]",
   "language": "python",
   "name": "conda-env-pyart-2018-py"
  },
  "language_info": {
   "codemirror_mode": {
    "name": "ipython",
    "version": 3
   },
   "file_extension": ".py",
   "mimetype": "text/x-python",
   "name": "python",
   "nbconvert_exporter": "python",
   "pygments_lexer": "ipython3",
   "version": "3.6.4"
  }
 },
 "nbformat": 4,
 "nbformat_minor": 2
}
